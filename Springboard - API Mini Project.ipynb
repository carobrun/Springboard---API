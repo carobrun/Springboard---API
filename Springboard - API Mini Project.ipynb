{
 "cells": [
  {
   "cell_type": "markdown",
   "metadata": {},
   "source": [
    "# API Mini Project"
   ]
  },
  {
   "cell_type": "markdown",
   "metadata": {},
   "source": [
    "**1. Collect data from the Franfurt Stock Exchange, for the ticker AFX_X, for the whole year 2017 (keep in mind that the date format is YYYY-MM-DD).**"
   ]
  },
  {
   "cell_type": "code",
   "execution_count": 279,
   "metadata": {},
   "outputs": [],
   "source": [
    "import requests\n",
    "import json\n",
    "from pandas.io.json import json_normalize\n",
    "import collections"
   ]
  },
  {
   "cell_type": "code",
   "execution_count": 280,
   "metadata": {},
   "outputs": [],
   "source": [
    "#API Key\n",
    "API_KEY = ''\n",
    "params = {'api_key':API_KEY, 'start_date':'2017-01-01', 'end_date':'2017-12-31'}\n",
    "URL = 'https://www.quandl.com/api/v3/datasets/FSE/AFX_X.json'"
   ]
  },
  {
   "cell_type": "code",
   "execution_count": 281,
   "metadata": {},
   "outputs": [],
   "source": [
    "r = requests.get(URL, params=params)"
   ]
  },
  {
   "cell_type": "markdown",
   "metadata": {},
   "source": [
    "**2. Convert the returned JSON object into a Python dictionary.**"
   ]
  },
  {
   "cell_type": "code",
   "execution_count": 282,
   "metadata": {},
   "outputs": [
    {
     "data": {
      "text/plain": [
       "dict"
      ]
     },
     "execution_count": 282,
     "metadata": {},
     "output_type": "execute_result"
    }
   ],
   "source": [
    "r = r.json()\n",
    "r = r['dataset']\n",
    "type(r)"
   ]
  },
  {
   "cell_type": "code",
   "execution_count": 283,
   "metadata": {},
   "outputs": [],
   "source": [
    "# to access applicable data we must access the dictionary key 'data'\n",
    "data = r.get('data')"
   ]
  },
  {
   "cell_type": "markdown",
   "metadata": {},
   "source": [
    "**3. Calculate what the highest and lowest opening prices were for the stock in this period.**"
   ]
  },
  {
   "cell_type": "code",
   "execution_count": 284,
   "metadata": {},
   "outputs": [
    {
     "data": {
      "text/plain": [
       "(53.11, 34.0)"
      ]
     },
     "execution_count": 284,
     "metadata": {},
     "output_type": "execute_result"
    }
   ],
   "source": [
    "open_list = []\n",
    "open_column_index = 1\n",
    "for row in data:\n",
    "    if row[open_column_index] is not None:\n",
    "        open_list.append(row[open_column_index])\n",
    "\n",
    "max(open_list), min(open_list)"
   ]
  },
  {
   "cell_type": "markdown",
   "metadata": {},
   "source": [
    "Max = 53.11\n",
    "Min = 34.00"
   ]
  },
  {
   "cell_type": "markdown",
   "metadata": {},
   "source": [
    "**4. What was the largest change in any one day (based on High and Low price)?**"
   ]
  },
  {
   "cell_type": "code",
   "execution_count": 285,
   "metadata": {},
   "outputs": [
    {
     "data": {
      "text/plain": [
       "2.8100000000000023"
      ]
     },
     "execution_count": 285,
     "metadata": {},
     "output_type": "execute_result"
    }
   ],
   "source": [
    "change_list = []\n",
    "high_column_index = 2\n",
    "low_column_index = 3\n",
    "\n",
    "for row in data:\n",
    "    if row[high_column_index] and row[low_column_index] is not None:\n",
    "        diff = row[high_column_index] - row[low_column_index]\n",
    "        change_list.append(diff)\n",
    "\n",
    "max(change_list)"
   ]
  },
  {
   "cell_type": "markdown",
   "metadata": {},
   "source": [
    "Max = 2.81"
   ]
  },
  {
   "cell_type": "markdown",
   "metadata": {},
   "source": [
    "**5. What was the largest change between any two days (based on Closing Price)?**"
   ]
  },
  {
   "cell_type": "code",
   "execution_count": 286,
   "metadata": {},
   "outputs": [
    {
     "data": {
      "text/plain": [
       "2.559999999999995"
      ]
     },
     "execution_count": 286,
     "metadata": {},
     "output_type": "execute_result"
    }
   ],
   "source": [
    "closing_list = []\n",
    "closing_price_index = 4\n",
    "change_list = []\n",
    "\n",
    "for row in data:\n",
    "    if row[closing_price_index] is not None:\n",
    "        closing_list.append(row[closing_price_index])\n",
    "\n",
    "length = len(closing_list)\n",
    "\n",
    "for i in range(length):\n",
    "    if i + 1 < length: \n",
    "        two_day_change = closing_list[i+1] - closing_list[i]\n",
    "        two_day_change = abs(two_day_change)\n",
    "        change_list.append(two_day_change)\n",
    "max(change_list)"
   ]
  },
  {
   "cell_type": "markdown",
   "metadata": {},
   "source": [
    "Max = 2.56"
   ]
  },
  {
   "cell_type": "markdown",
   "metadata": {},
   "source": [
    "**6. What was the average daily trading volume during this year?**"
   ]
  },
  {
   "cell_type": "code",
   "execution_count": 287,
   "metadata": {},
   "outputs": [
    {
     "data": {
      "text/plain": [
       "350.5882352941176"
      ]
     },
     "execution_count": 287,
     "metadata": {},
     "output_type": "execute_result"
    }
   ],
   "source": [
    "volume_list = []\n",
    "volume_column_index = 6\n",
    "for row in data:\n",
    "    if row[volume_column_index] is not None:\n",
    "        volume_list.append(row[volume_column_index])\n",
    "for i in volume_list:\n",
    "    total = i+i\n",
    "\n",
    "length = len(volume_list)\n",
    "average = total/length\n",
    "average"
   ]
  },
  {
   "cell_type": "markdown",
   "metadata": {},
   "source": [
    "Average = 350.59"
   ]
  }
 ],
 "metadata": {
  "kernelspec": {
   "display_name": "Python 3",
   "language": "python",
   "name": "python3"
  },
  "language_info": {
   "codemirror_mode": {
    "name": "ipython",
    "version": 3
   },
   "file_extension": ".py",
   "mimetype": "text/x-python",
   "name": "python",
   "nbconvert_exporter": "python",
   "pygments_lexer": "ipython3",
   "version": "3.7.4"
  }
 },
 "nbformat": 4,
 "nbformat_minor": 2
}
